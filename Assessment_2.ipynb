{
 "cells": [
  {
   "cell_type": "code",
   "execution_count": null,
   "id": "e1c0824c",
   "metadata": {},
   "outputs": [],
   "source": [
    "import pandas as pd\n",
    "import numpy as np\n",
    "import dash\n",
    "from dash import Dash, dcc, html, dash_table\n",
    "import dash_bootstrap_components as dbc\n",
    "import plotly.express as px\n",
    "import plotly.graph_objects as go\n",
    "from dash.dependencies import Input, Output"
   ]
  },
  {
   "cell_type": "markdown",
   "id": "8b8a5f4e-da07-4585-aa60-ad3a7b0ca293",
   "metadata": {},
   "source": [
    "### Explatory Data Analysis with Dashboard for Supermarket Sales Dataset\n"
   ]
  },
  {
   "cell_type": "markdown",
   "id": "af220641-69c4-4acd-9e79-f2f12dea3410",
   "metadata": {},
   "source": [
    "The main aim of this project is to analyse the Supermarket Sales dataset to create an interactive analytical dashboard that analyses the performance of the supermarket's overall activity together with individual branches. \n",
    "\n",
    "The analysis will perform explanatory data analysis based on:\n",
    "   >1. Total weekly and daily sales, cost of goods and gross profit for the supermarket combined and individual branches.\n",
    "   >2. Customer types\n",
    "   >3. Product line and rating.  "
   ]
  },
  {
   "cell_type": "markdown",
   "id": "151de5b4-f81a-4b0e-a4fe-606d98ff7725",
   "metadata": {},
   "source": [
    "The dataset has the following features:\n",
    "* Invoice id: Computer generated sales slip invoice identification number\n",
    "* Branch: Branch of supercenter (3 branches are available identified by A, B and C).\n",
    "* City: Location of supercenters\n",
    "* Customer type: Type of customers, recorded by Members for customers using member card and Normal for without member card.\n",
    "* Gender: Gender type of customer\n",
    "* Product line: General item categorization groups - Electronic accessories, Fashion accessories, Food and beverages, Health and beauty, Home and lifestyle, Sports and travel\n",
    "* Unit price: Price of each product in dollars\n",
    "* Quantity: Number of products purchased by customer\n",
    "* Tax 5%: tax fee for customer buying\n",
    "* Total: Total price including tax\n",
    "* Date: Date of purchase (Record available from January 2019 to March 2019)\n",
    "* Time: Purchase time (10am to 9pm)\n",
    "* Payment: Payment used by customer for purchase (3 methods are available – Cash, Credit card and Ewallet)\n",
    "* COGS: Cost of goods sold\n",
    "* Gross margin percentage: Gross margin percentage\n",
    "* Gross income: Gross income\n",
    "* Rating: Customer stratification rating on their overall shopping experience (On a scale of 1 to 10)\n",
    "  \n",
    "The dataset can be found [Here](https://www.kaggle.com/datasets/aungpyaeap/supermarket-sales/code)"
   ]
  },
  {
   "cell_type": "code",
   "execution_count": null,
   "id": "21ca6100",
   "metadata": {
    "scrolled": true
   },
   "outputs": [],
   "source": [
    "#create a data frame\n",
    "\n",
    "df=pd.read_csv('Sales Dataset _with Correction.csv')\n",
    "df"
   ]
  },
  {
   "cell_type": "code",
   "execution_count": null,
   "id": "f575d068",
   "metadata": {},
   "outputs": [],
   "source": [
    "#check data type\n",
    "df.dtypes"
   ]
  },
  {
   "cell_type": "code",
   "execution_count": null,
   "id": "3e048e7b",
   "metadata": {},
   "outputs": [],
   "source": [
    "#change the date format to dt\n",
    "df['Date']=pd.to_datetime(df['Date'])\n",
    "df"
   ]
  },
  {
   "cell_type": "code",
   "execution_count": null,
   "id": "3ca0a478",
   "metadata": {},
   "outputs": [],
   "source": [
    "# get the month name\n",
    "df['Month'] = df['Date'].dt.month_name()\n",
    "df['Day'] = df['Date'].dt.day_name()\n",
    "df"
   ]
  },
  {
   "cell_type": "code",
   "execution_count": null,
   "id": "df117731",
   "metadata": {},
   "outputs": [],
   "source": [
    "# get the week number\n",
    "df['Week'] = df['Date'].dt.isocalendar().week\n",
    "df"
   ]
  },
  {
   "cell_type": "code",
   "execution_count": null,
   "id": "1d0e51c4-dd06-4fa3-adbb-618e7506204c",
   "metadata": {},
   "outputs": [],
   "source": [
    "df['Time'] = pd.to_datetime(df.Time)"
   ]
  },
  {
   "cell_type": "code",
   "execution_count": null,
   "id": "a1ec6b5e-b7fc-4d2b-a278-02cf7a84cae5",
   "metadata": {},
   "outputs": [],
   "source": [
    "df.dtypes"
   ]
  },
  {
   "cell_type": "code",
   "execution_count": null,
   "id": "f5f849c7-efed-4449-a388-08415f8457a7",
   "metadata": {},
   "outputs": [],
   "source": [
    "# find all the categories in the dataset\n",
    "\n",
    "for col in df.columns:\n",
    "    if df[col].dtype == object and col!='Invoice ID':\n",
    "        print(f'The categories for {col} is: {df[col].unique()}')\n",
    "        print(\"\")"
   ]
  },
  {
   "cell_type": "markdown",
   "id": "3698ec58-00fb-4dda-826e-d97ac14ca195",
   "metadata": {},
   "source": [
    "#### Aggregate the braches sales"
   ]
  },
  {
   "cell_type": "code",
   "execution_count": null,
   "id": "a70e18ba",
   "metadata": {},
   "outputs": [],
   "source": [
    "#Branch A\n",
    "a_branch = df[df['Branch']== 'A']\n",
    "a_branch"
   ]
  },
  {
   "cell_type": "code",
   "execution_count": null,
   "id": "f2e36776",
   "metadata": {},
   "outputs": [],
   "source": [
    "#get branch b\n",
    "b_branch = df[df['Branch']== 'B']\n",
    "b_branch"
   ]
  },
  {
   "cell_type": "code",
   "execution_count": null,
   "id": "3eaacd68",
   "metadata": {},
   "outputs": [],
   "source": [
    "#get branch c\n",
    "c_branch = df[df['Branch']== 'C']\n",
    "c_branch"
   ]
  },
  {
   "cell_type": "markdown",
   "id": "890c1a78-049c-410b-b2be-70280176dccd",
   "metadata": {},
   "source": [
    "### Group the branche's customer based on customer type"
   ]
  },
  {
   "cell_type": "code",
   "execution_count": null,
   "id": "35fe79d9",
   "metadata": {},
   "outputs": [],
   "source": [
    "#get branch members\n",
    "a_branch_members = a_branch[a_branch['Customer type']=='Member']\n",
    "a_branch_members"
   ]
  },
  {
   "cell_type": "code",
   "execution_count": null,
   "id": "412327f3",
   "metadata": {},
   "outputs": [],
   "source": [
    "#get the non-members\n",
    "a_branch_normal = a_branch[a_branch['Customer type']=='Normal']\n",
    "a_branch_normal"
   ]
  },
  {
   "cell_type": "code",
   "execution_count": null,
   "id": "aa7278a4",
   "metadata": {},
   "outputs": [],
   "source": [
    "min_per = df['Date'].min()\n",
    "max_per = df['Date'].max()\n",
    "min_per, max_per"
   ]
  },
  {
   "cell_type": "code",
   "execution_count": null,
   "id": "f05c0394",
   "metadata": {},
   "outputs": [],
   "source": [
    "#Total figures df\n",
    "total_sales = round(df['Total'].sum(),2)\n",
    "gross_profit = round(df['gross profit'].sum(),2)\n",
    "cog = round(df['COGS'].sum(),2)\n",
    "average_gross_per = round(df['gross margin percentage(unit)'].mean(),2)\n",
    "cust_rate = round(df['Rating'].mean(),2)\n"
   ]
  },
  {
   "cell_type": "code",
   "execution_count": null,
   "id": "78b2d54e",
   "metadata": {},
   "outputs": [],
   "source": [
    "#Total figures branch A\n",
    "A_total_sales = round(a_branch['Total'].sum(),2)\n",
    "A_gross_profit = round(a_branch['gross profit'].sum(),2)\n",
    "A_average_gross_per = round(a_branch['gross margin percentage(unit)'].mean(),2)\n",
    "A_cog = round(a_branch['COGS'].sum(),2)\n",
    "A_cust_rate = round(a_branch['Rating'].mean(),2)\n",
    "A_total_sales"
   ]
  },
  {
   "cell_type": "code",
   "execution_count": null,
   "id": "dd857085",
   "metadata": {},
   "outputs": [],
   "source": [
    "#Total figures branch B\n",
    "B_total_sales = round(b_branch['Total'].sum(),2)\n",
    "B_gross_profit = round(b_branch['gross profit'].sum(),2)\n",
    "B_average_gross_per = round(b_branch['gross margin percentage(unit)'].mean(),2)\n",
    "B_cog = round(b_branch['COGS'].sum(),2)\n",
    "B_cust_rate = round(b_branch['Rating'].mean(),2)"
   ]
  },
  {
   "cell_type": "code",
   "execution_count": null,
   "id": "37d4cce7",
   "metadata": {},
   "outputs": [],
   "source": [
    "#Total figures branch C\n",
    "C_total_sales = round(c_branch['Total'].sum(),2)\n",
    "C_gross_profit = round(c_branch['gross profit'].sum(),2)\n",
    "C_average_gross_per = round(c_branch['gross margin percentage(unit)'].mean(),2)\n",
    "C_cog = round(c_branch['COGS'].sum(),2)\n",
    "C_cust_rate = round(c_branch['Rating'].mean(),2)"
   ]
  },
  {
   "cell_type": "code",
   "execution_count": null,
   "id": "377d5951",
   "metadata": {},
   "outputs": [],
   "source": [
    "app = dash.Dash(__name__,external_stylesheets=[dbc.themes.BOOTSTRAP])             "
   ]
  },
  {
   "cell_type": "code",
   "execution_count": null,
   "id": "3f86ef80",
   "metadata": {},
   "outputs": [],
   "source": [
    "app.layout = html.Div([\n",
    "    dbc.Row([html.H1('Supermarket Sales Dashboard.'),\n",
    "            html.A('Link to the dataset', href='https://www.kaggle.com/datasets/aungpyaeap/supermarket-sales/code', target='_blank')\n",
    "\n",
    "            ], style={'background-color':'#80cdc1', 'margin':'5px','border-radius':'10px', 'font-size':'12px'}),\n",
    "    \n",
    "    \n",
    "    dbc.Row([\n",
    "        dbc.Col([html.H1('Reporting\\nPeriod: 01/01/2019-30/03/2019',style={'font-size':'16px', 'padding-top':'20px'})],style={'background-color':'#dfc27d', 'margin':'10px','border-radius':'25px'}),\n",
    "        dbc.Col([html.H1(id='total-sales', style={'font-size':'16px', 'padding-top':'20px'})],style={'background-color':'#dfc27d','margin':'10px','border-radius':'25px'}),\n",
    "        dbc.Col([html.H1(id='gross_profit',style={'font-size':'16px', 'padding-top':'20px'})],style={'background-color':'#dfc27d','margin':'10px','border-radius':'25px'}),\n",
    "        dbc.Col([html.H1(id='average_gross%',style={'font-size':'16px', 'padding-top':'20px'})],style={'background-color':'#dfc27d','margin':'10px','border-radius':'25px'}),\n",
    "        dbc.Col([html.H1(id='cog', style={'font-size':'16px', 'padding-top':'20px'})],style={'background-color':'#dfc27d','margin':'10px','border-radius':'25px'}),\n",
    "        dbc.Col([html.H1(id='cust_rate', style={'font-size':'16px', 'padding-top':'20px'})],style={'background-color':'#dfc27d','margin':'10px','border-radius':'25px'})\n",
    "        \n",
    "    ]),\n",
    "    \n",
    "        dbc.Row([dcc.RadioItems(\n",
    "            id='supermarket',\n",
    "            options=[{'label':'Combined Total', 'value':'df'},\n",
    "                 {'label': 'Branch A', 'value': 'a_branch'},\n",
    "                 {'label': 'Branch B', 'value': 'b_branch'},\n",
    "                 {'label': 'Branch C', 'value': 'c_branch'}               \n",
    "                ], \n",
    "            value='df',\n",
    "            labelStyle={'display': 'in-line'}),\n",
    "            \n",
    "             \n",
    "            ],style={'margin':'5px'}),\n",
    "    dbc.Row([dbc.Col([dcc.Graph(id='sales_trend', figure={})], width=6),\n",
    "             dbc.Col([dcc.Graph(id='avarage_sales', figure={})], width=6)\n",
    "            ]),\n",
    "    \n",
    "    dbc.Row([dbc.Col([dcc.Graph(id='product_per_analysis', figure={}, config={'displayModeBar':False})\n",
    "                     ]),\n",
    "             dbc.Col([dcc.Graph(id='pyment_method', figure={}, config={'displayModeBar': False}),\n",
    "                 \n",
    "             ])\n",
    "        \n",
    "    ])\n",
    "       \n",
    "    \n",
    "], style={'margin':'10px', 'back-ground':'#ffffcc'})"
   ]
  },
  {
   "cell_type": "code",
   "execution_count": null,
   "id": "4f26c692",
   "metadata": {},
   "outputs": [],
   "source": [
    "@app.callback(\n",
    "    Output('total-sales', 'children'),\n",
    "    [Input('supermarket', 'value')]\n",
    ")\n",
    "\n",
    "def update_output(user_select):\n",
    "    if user_select == 'df':\n",
    "        return f'Total Sales: {total_sales:,}'\n",
    "    elif user_select == 'a_branch':\n",
    "        return f'Total Sales: {A_total_sales:,}'\n",
    "    elif user_select == 'b_branch':\n",
    "        return f'Total Sales: {B_total_sales:,}'\n",
    "    elif user_select == 'c_branch':\n",
    "        return f'Total Sales: {C_total_sales:,}'\n",
    "####################################################\n",
    "\n",
    "@app.callback(\n",
    "    Output('gross_profit', 'children'),\n",
    "    [Input('supermarket', 'value')]\n",
    ")\n",
    "\n",
    "def update_output_g(user_select_g):\n",
    "    if user_select_g == 'df':\n",
    "        return f'Gross Profit: {gross_profit:,}'\n",
    "    elif user_select_g == 'a_branch':\n",
    "        return f'Gross Profit: {A_gross_profit:,}'\n",
    "    elif user_select_g == 'b_branch':\n",
    "        return f'Gross Profit: {B_gross_profit:,}'\n",
    "    elif user_select_g == 'c_branch':\n",
    "        return f'Gross Profit: {C_gross_profit:,}'\n",
    "    \n",
    "####################################################\n",
    "\n",
    "@app.callback(\n",
    "    Output('average_gross%', 'children'),\n",
    "    [Input('supermarket', 'value')]\n",
    ")\n",
    "\n",
    "def update_output_(user_select_):\n",
    "    if user_select_ == 'df':\n",
    "        return f'Gross Profit %: {average_gross_per:,}'\n",
    "    elif user_select_ == 'a_branch':\n",
    "        return f'Gross Profit %: {A_average_gross_per:,}'\n",
    "    elif user_select_ == 'b_branch':\n",
    "        return f'Gross Profit %: {B_average_gross_per:,}'\n",
    "    elif user_select_ == 'c_branch':\n",
    "        return f'Gross Profit %: {C_average_gross_per:,}'\n",
    "####################################################\n",
    "\n",
    "@app.callback(\n",
    "    Output('cog', 'children'),\n",
    "    [Input('supermarket', 'value')]\n",
    ")\n",
    "\n",
    "def update_output_c(user_select_c):\n",
    "    if user_select_c == 'df':\n",
    "        return f'Cost of Goods: {cog:,}'\n",
    "    elif user_select_c == 'a_branch':\n",
    "        return f'Cost of Goods: {A_cog:,}'\n",
    "    elif user_select_c == 'b_branch':\n",
    "        return f'Cost of Goods: {B_cog:,}'\n",
    "    elif user_select_c == 'c_branch':\n",
    "        return f'Cost of Goods: {C_cog:,}'\n",
    "    \n",
    "#####################################################\n",
    "@app.callback(\n",
    "    Output('cust_rate', 'children'),\n",
    "    [Input('supermarket', 'value')]\n",
    ")\n",
    "\n",
    "def update_output_r(user_select_r):\n",
    "    if user_select_r == 'df':\n",
    "        return f'Average Customer Rating: {cust_rate:,}'\n",
    "    elif user_select_r == 'a_branch':\n",
    "        return f'Average Customer Rating: {A_cust_rate:,}'\n",
    "    elif user_select_r == 'b_branch':\n",
    "        return f'Average Customer Rating: {B_cust_rate:,}'\n",
    "    elif user_select_r == 'c_branch':\n",
    "        return f'Average Customer Rating: {C_cust_rate:,}'\n",
    "    \n"
   ]
  },
  {
   "cell_type": "code",
   "execution_count": null,
   "id": "56fc00d6",
   "metadata": {},
   "outputs": [],
   "source": [
    "#Sales line graph\n",
    "\n",
    "@app.callback(\n",
    "    [Output('sales_trend', 'figure')],\n",
    "    [Input('supermarket', 'value')]\n",
    "\n",
    ")\n",
    "\n",
    "def update_sales_graph(user_select):\n",
    "    \n",
    "    if user_select == 'df':\n",
    "        df_grouped = df.groupby('Week').sum(numeric_only=True).round(2) \n",
    "        fig = px.line(df_grouped, x= df_grouped.index, y=df_grouped['Total'], title=f'Combined Weekly Sales.',markers='o')\n",
    "        fig.update_traces(line_color='#a6611a')\n",
    "        fig.add_annotation(x=10, y=17300, text='Week 8 is <br> a week that<br> the supermarket has<br> recorded the least sales.', showarrow=False)\n",
    "        fig.update_layout(xaxis={'showgrid':False})\n",
    "        \n",
    "        return(fig,)\n",
    "    \n",
    "    elif user_select == 'a_branch':\n",
    "        A_grouped = a_branch.groupby('Week').sum(numeric_only=True).round(2) \n",
    "        A_grouped_min = A_grouped['Total'].min()\n",
    "        A_grouped_min_ind = A_grouped.idxmin()\n",
    "        \n",
    "        fig = px.line(A_grouped, x= A_grouped.index, y=A_grouped['Total'], title=f'Branch A Weekly Sales.',markers='o')\n",
    "        fig.update_traces(line_color='#a6611a')\n",
    "        fig.add_annotation(x=11, y=5536.83, text='Week 8 is <br> a week that<br> the Branch A has<br> recorded the least sales.', showarrow=True, arrowsize=12)\n",
    "        fig.update_layout(xaxis={'showgrid':False})\n",
    "        return (fig,)\n",
    "    \n",
    "    elif user_select == 'b_branch':\n",
    "        B_grouped = b_branch.groupby('Week').sum(numeric_only=True).round(2)\n",
    "        fig = px.line(B_grouped, x= B_grouped.index, y=B_grouped['Total'],title=f'Branch B Weekly Sales.',markers='o')\n",
    "        fig.update_traces(line_color='#a6611a')\n",
    "        fig.add_annotation(x=10, y=5812, text='Week 8 is <br> a week that<br> the Branch B has<br> recorded the least sales.', showarrow=True, arrowsize=12)\n",
    "        fig.update_layout(xaxis={'showgrid':False})\n",
    "        \n",
    "        return(fig,)\n",
    "    \n",
    "    elif user_select == 'c_branch':\n",
    "        C_grouped = c_branch.groupby('Week').sum(numeric_only=True).round(2)\n",
    "        fig = px.line(C_grouped, x= C_grouped.index, y=C_grouped['Total'],title=f'Branch C Weekly Sales.',markers='o' )\n",
    "        fig.update_traces(line_color='#a6611a')\n",
    "        fig.add_annotation(x=11, y=5979, text='Week 8 is <br> a week that<br> the Branch C has<br> recorded the least sales.', showarrow=True, arrowsize=12)\n",
    "        fig.update_layout(xaxis={'showgrid':False})\n",
    "        \n",
    "        return(fig,) "
   ]
  },
  {
   "cell_type": "code",
   "execution_count": null,
   "id": "f56e496d",
   "metadata": {},
   "outputs": [],
   "source": [
    "#average sales\n",
    "\n",
    "@app.callback(\n",
    "    [Output('avarage_sales', 'figure')],\n",
    "    [Input('supermarket', 'value')]\n",
    "\n",
    ")\n",
    "\n",
    "\n",
    "def update_sales_graph(user_select):\n",
    "    days = ['Monday', 'Tuesday', 'Wednesday', 'Thursday', 'Friday', 'Saturday', 'Sunday']\n",
    "    \n",
    "    if user_select == 'df':\n",
    "        df_grouped = df.groupby('Day').mean(numeric_only=True).reindex(days)\n",
    "        fig = px.line(df_grouped, x= df_grouped.index, y=df_grouped['Total'], title=f'Combined Daily Sales.', markers='o')\n",
    "        fig.update_traces(line_color='#a6611a')\n",
    "        fig.add_annotation(x='Friday', y=310, text='Saturday is <br> the maximum sales recorded.<br> the supermarket has<br> the least sales recorded on Monday.', showarrow=False)\n",
    "        \n",
    "        fig.update_layout(xaxis={'showgrid':False})\n",
    "        \n",
    "        return(fig,)\n",
    "    \n",
    "    elif user_select == 'a_branch':\n",
    "        A_grouped = a_branch.groupby('Day').sum(numeric_only=True).reindex(days)\n",
    "        \n",
    "        fig = px.line(A_grouped, x= A_grouped.index, y=A_grouped['Total'], title=f'Branch A Daily Sales.',markers='o')\n",
    "        fig.update_traces(line_color='#a6611a')\n",
    "        fig.add_annotation(x='Friday', y=14000, text='Sunday has the<br> maximum sales recorded.<br> the supermarket has<br> the least sales recorded on Wednesday.', showarrow=False)\n",
    "        fig.update_layout(xaxis={'showgrid':False})\n",
    "        return (fig,)\n",
    "    \n",
    "    elif user_select == 'b_branch':\n",
    "        B_grouped = b_branch.groupby('Day').sum(numeric_only=True).reindex(days) \n",
    "        fig = px.line(B_grouped, x= B_grouped.index, y=B_grouped['Total'],title=f'Branch B Daily Sales.',markers='o')\n",
    "        fig.update_traces(line_color='#a6611a')\n",
    "        fig.add_annotation(x='Thursday', y=12000, text='While Saturday has<br> the maximum sales<br> Sunday has the minimum sales.', showarrow=False)\n",
    "        fig.update_layout(xaxis={'showgrid':False})\n",
    "        \n",
    "        return(fig,)\n",
    "    \n",
    "    elif user_select == 'c_branch':\n",
    "        C_grouped = c_branch.groupby('Day').sum(numeric_only=True).reindex(days) \n",
    "        fig = px.line(C_grouped, x= C_grouped.index, y=C_grouped['Total'],title=f'Branch C Daily Sales.',markers='o' )\n",
    "        fig.update_traces(line_color='#a6611a')\n",
    "        fig.update_layout(xaxis={'showgrid':False})\n",
    "        fig.add_annotation(x='Wednesday', y=12000, text='Tuseday has<br> the minimum sales<br> while Saturday has the maximum sales.', showarrow=False)\n",
    "        \n",
    "        \n",
    "        return(fig,) \n",
    "\n",
    "\n",
    "       "
   ]
  },
  {
   "cell_type": "code",
   "execution_count": null,
   "id": "c9abf8a9",
   "metadata": {},
   "outputs": [],
   "source": [
    "# graph product_per_analysis\n",
    "\n",
    "@app.callback(\n",
    "    [Output('product_per_analysis', 'figure')],\n",
    "    [Input('supermarket', 'value')]\n",
    "\n",
    ")\n",
    "\n",
    "def update_sales_graph(user_select):\n",
    "    \n",
    "    if user_select == 'df':\n",
    "        df_perf = df.groupby('Product line').sum(numeric_only=True)\n",
    "        fig = px.bar(df_perf, x= df_perf.index, y=df_perf['Total'],color=df_perf.index,\n",
    "                     color_discrete_map={'Electronic accessories':'#01665e', 'Fashion accessories':'#d8b365',\n",
    "                                        'Food and beverages':'#8c510a','Health and beauty': '#01665e',\n",
    "                                        'Home and lifestyle':'#c7eae5', 'Sports and travel':'#f6e8c3'},\n",
    "                                         title=f'Combined Product Line Sales.')\n",
    "       \n",
    "        \n",
    "        return(fig,)\n",
    "    \n",
    "    elif user_select == 'a_branch':\n",
    "        \n",
    "        A_pref = a_branch.groupby('Product line').sum(numeric_only=True) \n",
    "        fig = px.bar(A_pref, x= A_pref.index,\n",
    "                     y=A_pref['Total'],\n",
    "                     color=A_pref.index,\n",
    "                     color_discrete_map={'Electronic accessories':'#01665e', 'Fashion accessories':'#d8b365',\n",
    "                                        'Food and beverages':'#8c510a','Health and beauty': '#01665e',\n",
    "                                        'Home and lifestyle':'#c7eae5', 'Sports and travel':'#f6e8c3'},\n",
    "                                        title=f'Branch A Product Line Sales.')\n",
    "      \n",
    "        \n",
    "        return (fig,)\n",
    "    \n",
    "    elif user_select == 'b_branch':\n",
    "        B_pref = b_branch.groupby('Product line').sum(numeric_only=True) \n",
    "        fig = px.bar(B_pref, x= B_pref.index, \n",
    "                     y=B_pref['Total'],\n",
    "                     color=B_pref.index,\n",
    "                     color_discrete_map={'Electronic accessories':'#01665e', 'Fashion accessories':'#d8b365',\n",
    "                                        'Food and beverages':'#8c510a','Health and beauty': '#01665e',\n",
    "                                        'Home and lifestyle':'#c7eae5', 'Sports and travel':'#f6e8c3'},\n",
    "                     title=f'Branch B Product Line Sales.')\n",
    "        \n",
    "        return(fig,)\n",
    "    \n",
    "    elif user_select == 'c_branch':\n",
    "        C_pref = c_branch.groupby('Product line').sum(numeric_only=True) \n",
    "        fig = px.bar(C_pref, x= C_pref.index, \n",
    "                     y=C_pref['Total'],\n",
    "                     color=C_pref.index,\n",
    "                     color_discrete_map={'Electronic accessories':'#01665e', 'Fashion accessories':'#d8b365',\n",
    "                                        'Food and beverages':'#8c510a','Health and beauty': '#01665e',\n",
    "                                        'Home and lifestyle':'#c7eae5', 'Sports and travel':'#f6e8c3'},\n",
    "                     title=f'Branch C Product Line Sales.' )\n",
    "       \n",
    "        return(fig,) "
   ]
  },
  {
   "cell_type": "code",
   "execution_count": null,
   "id": "2e7df337",
   "metadata": {},
   "outputs": [],
   "source": [
    "# graph member and payment type\n",
    "\n",
    "@app.callback(\n",
    "    [Output('pyment_method', 'figure')],\n",
    "    [Input('supermarket', 'value')]\n",
    "\n",
    ")\n",
    "\n",
    "def update_sales_graph(user_select,):\n",
    "    \n",
    "    if user_select == 'df':\n",
    "        fig = px.sunburst(df, path=['Customer type', 'Payment', 'Gender'], values='Total', color='Customer type', color_discrete_sequence=px.colors.qualitative.Pastel, title='Customer Segmentation by Membership, Payment Type and Gender')\n",
    "        return(fig,)\n",
    "    \n",
    "    elif user_select == 'a_branch':\n",
    "        \n",
    "        fig = px.sunburst(a_branch, path=['Customer type', 'Payment','Gender'], values='Total', color='Customer type', color_discrete_sequence=px.colors.qualitative.Pastel,title='Customer Segmentation by Membership, Payment Type and Gender')\n",
    "        return (fig,)\n",
    "    \n",
    "    elif user_select == 'b_branch':\n",
    "        \n",
    "        fig = px.sunburst(b_branch, path=['Customer type', 'Payment', 'Gender'], values='Total', color='Customer type', color_discrete_sequence=px.colors.qualitative.Pastel,title='Customer Segmentation by Membership, Payment Type and Gender')\n",
    "        return(fig,)\n",
    "    \n",
    "    elif user_select == 'c_branch':\n",
    "        \n",
    "        fig = px.sunburst(c_branch, path=['Customer type', 'Payment', 'Gender'], values='Total', color='Customer type',color_discrete_sequence=px.colors.qualitative.Pastel,title='Customer Segmentation by Membership, Payment Type and Gender')\n",
    "        return(fig,) "
   ]
  },
  {
   "cell_type": "code",
   "execution_count": 247,
   "id": "527102ae",
   "metadata": {},
   "outputs": [
    {
     "data": {
      "text/html": [
       "\n",
       "        <iframe\n",
       "            width=\"100%\"\n",
       "            height=\"650\"\n",
       "            src=\"http://127.0.0.1:8050/\"\n",
       "            frameborder=\"0\"\n",
       "            allowfullscreen\n",
       "            \n",
       "        ></iframe>\n",
       "        "
      ],
      "text/plain": [
       "<IPython.lib.display.IFrame at 0x26ccbd7cb90>"
      ]
     },
     "metadata": {},
     "output_type": "display_data"
    }
   ],
   "source": [
    "if __name__ == '__main__':\n",
    "    app.run(debug=False, jupyter_mode='inline')"
   ]
  },
  {
   "cell_type": "code",
   "execution_count": null,
   "id": "cd3644cf",
   "metadata": {},
   "outputs": [],
   "source": []
  },
  {
   "cell_type": "code",
   "execution_count": null,
   "id": "46fd4d2b",
   "metadata": {},
   "outputs": [],
   "source": []
  }
 ],
 "metadata": {
  "kernelspec": {
   "display_name": "Python 3 (ipykernel)",
   "language": "python",
   "name": "python3"
  },
  "language_info": {
   "codemirror_mode": {
    "name": "ipython",
    "version": 3
   },
   "file_extension": ".py",
   "mimetype": "text/x-python",
   "name": "python",
   "nbconvert_exporter": "python",
   "pygments_lexer": "ipython3",
   "version": "3.11.9"
  }
 },
 "nbformat": 4,
 "nbformat_minor": 5
}
